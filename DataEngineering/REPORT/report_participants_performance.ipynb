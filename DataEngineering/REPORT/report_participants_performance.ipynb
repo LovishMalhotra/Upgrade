{
 "cells": [
  {
   "cell_type": "code",
   "execution_count": 1,
   "metadata": {},
   "outputs": [
    {
     "name": "stdout",
     "output_type": "stream",
     "text": [
      "report gentrated at report_participant_performance.csv\n"
     ]
    },
    {
     "name": "stderr",
     "output_type": "stream",
     "text": [
      "C:\\Users\\LovishMalhotra\\AppData\\Local\\Temp\\ipykernel_15964\\2437057030.py:22: SettingWithCopyWarning: \n",
      "A value is trying to be set on a copy of a slice from a DataFrame.\n",
      "Try using .loc[row_indexer,col_indexer] = value instead\n",
      "\n",
      "See the caveats in the documentation: https://pandas.pydata.org/pandas-docs/stable/user_guide/indexing.html#returning-a-view-versus-a-copy\n",
      "  final_report_df['total_score'] = final_report_df[\n",
      "C:\\Users\\LovishMalhotra\\AppData\\Local\\Temp\\ipykernel_15964\\2437057030.py:26: SettingWithCopyWarning: \n",
      "A value is trying to be set on a copy of a slice from a DataFrame.\n",
      "Try using .loc[row_indexer,col_indexer] = value instead\n",
      "\n",
      "See the caveats in the documentation: https://pandas.pydata.org/pandas-docs/stable/user_guide/indexing.html#returning-a-view-versus-a-copy\n",
      "  final_report_df['Max Marks [10]'] = final_report_df['total_score'] / 4\n"
     ]
    }
   ],
   "source": [
    "import pandas as pd\n",
    "\n",
    "# Load the data\n",
    "users_df = pd.read_csv('../STAGING/staging_users.csv')  # Adjust path if necessary\n",
    "training_sessions_df = pd.read_csv('../STAGING/staging_training_sessions.csv')  # Adjust path if necessary\n",
    "\n",
    "# Merge training sessions with users on 'participant_user' and '_id'\n",
    "merged_df = training_sessions_df.merge(users_df, how='left', left_on='participant_user', right_on='_id')\n",
    "\n",
    "# Merge again to replace the 'trainer' ID with the username of the trainer\n",
    "merged_df = merged_df.merge(users_df[['username', '_id']], how='left', left_on='trainer', right_on='_id', suffixes=('', '_trainer'))\n",
    "merged_df = merged_df.rename(columns={'username_trainer': 'trainer_username'})\n",
    "\n",
    "# Select relevant columns and rename as needed\n",
    "final_report_df = merged_df[[\n",
    "    'training_code', 'trainer_username', 'username', \n",
    "    'participant_hackerRankScore', 'participant_assessmentScore', \n",
    "    'participant_performance', 'participant_communication', 'participant_remarks'\n",
    "]]\n",
    "\n",
    "# Calculate Total Score and Mean Score\n",
    "final_report_df['total_score'] = final_report_df[\n",
    "    ['participant_hackerRankScore', 'participant_assessmentScore', 'participant_performance', 'participant_communication']\n",
    "].sum(axis=1)\n",
    "\n",
    "final_report_df['Max Marks [10]'] = final_report_df['total_score'] / 4\n",
    "\n",
    "# Sort by training_code, trainer_username, and username\n",
    "final_report_df = final_report_df.sort_values(by=['username']).reset_index(drop=True)\n",
    "\n",
    "# Drop specified columns to finalize the report\n",
    "final_report_df = final_report_df.drop(columns=[\n",
    "    'participant_hackerRankScore', 'participant_assessmentScore', \n",
    "    'participant_performance', 'participant_communication', 'participant_remarks','total_score'\n",
    "])\n",
    "\n",
    "# Display the final report\n",
    "# Save the final report to a CSV file\n",
    "final_report_df.to_csv('participant_performance_report.csv', index=False)\n",
    "\n",
    "print('report gentrated at report_participant_performance.csv')"
   ]
  },
  {
   "cell_type": "code",
   "execution_count": null,
   "metadata": {},
   "outputs": [],
   "source": []
  }
 ],
 "metadata": {
  "kernelspec": {
   "display_name": "Python 3",
   "language": "python",
   "name": "python3"
  },
  "language_info": {
   "codemirror_mode": {
    "name": "ipython",
    "version": 3
   },
   "file_extension": ".py",
   "mimetype": "text/x-python",
   "name": "python",
   "nbconvert_exporter": "python",
   "pygments_lexer": "ipython3",
   "version": "3.12.5"
  }
 },
 "nbformat": 4,
 "nbformat_minor": 2
}

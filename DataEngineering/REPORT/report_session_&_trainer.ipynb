{
 "cells": [
  {
   "cell_type": "code",
   "execution_count": 1,
   "metadata": {},
   "outputs": [],
   "source": [
    "import pandas as pd"
   ]
  },
  {
   "cell_type": "code",
   "execution_count": 2,
   "metadata": {},
   "outputs": [],
   "source": [
    "# Load the data\n",
    "users_df = pd.read_csv('../STAGING/staging_users.csv')  # Adjust path if necessary\n",
    "training_sessions_df = pd.read_csv('../STAGING/staging_training_sessions.csv')  # Adjust path if necessary"
   ]
  },
  {
   "cell_type": "code",
   "execution_count": 3,
   "metadata": {},
   "outputs": [],
   "source": [
    "# 1. Merge with users to get trainer details\n",
    "training_sessions_with_trainer = training_sessions_df.merge(\n",
    "    users_df[['username', '_id','email', 'designation']], \n",
    "    left_on='trainer', \n",
    "    right_on='_id', \n",
    "    suffixes=('', '_trainer')\n",
    ").drop(columns=['_id'])"
   ]
  },
  {
   "cell_type": "code",
   "execution_count": 4,
   "metadata": {},
   "outputs": [],
   "source": [
    "# 2. Directly create a participants DataFrame from the training sessions\n",
    "participants_df = training_sessions_with_trainer[['training_code', 'participant_user', \n",
    "    'participant_hackerRankScore', 'participant_assessmentScore', \n",
    "    'participant_performance', 'participant_communication', 'participant_remarks']]\n",
    "\n",
    "# Check if the participant_user column exists before merging\n",
    "if 'participant_user' not in participants_df.columns:\n",
    "    raise KeyError(\"Column 'participant_user' not found in participants DataFrame.\")\n",
    "\n",
    "# Merge participants details with the main training data\n",
    "participants_merged_df = participants_df.merge(\n",
    "    users_df, \n",
    "    left_on='participant_user', \n",
    "    right_on='_id', \n",
    "    suffixes=('_participant', '_user')\n",
    ").drop(columns=['_id'])"
   ]
  },
  {
   "cell_type": "code",
   "execution_count": 5,
   "metadata": {},
   "outputs": [],
   "source": [
    "# 3. Aggregations and Calculations\n",
    "# Average scores for each session\n",
    "session_avg_scores = participants_merged_df.groupby('training_code').agg(\n",
    "    avg_hackerRankScore=('participant_hackerRankScore', 'mean'),\n",
    "    avg_assessmentScore=('participant_assessmentScore', 'mean'),\n",
    "    avg_performance=('participant_performance', 'mean'),\n",
    "    avg_communication=('participant_communication', 'mean'),\n",
    "    total_participants=('participant_user', 'nunique')\n",
    ").reset_index()\n",
    "\n",
    "# Merge average scores back to the main DataFrame\n",
    "training_with_avg_scores = training_sessions_with_trainer.merge(session_avg_scores, on='training_code', how='left')"
   ]
  },
  {
   "cell_type": "code",
   "execution_count": 6,
   "metadata": {},
   "outputs": [],
   "source": [
    "# 4. Restructuring Data for Reporting\n",
    "# Reporting by session: Summarize performance of participants per session\n",
    "session_report = training_with_avg_scores.groupby(['training_code', 'status', 'trainer', 'startDate', 'endDate']).agg(\n",
    "    total_participants=('participant_user', 'nunique'),\n",
    "    avg_hackerRankScore=('avg_hackerRankScore', 'first'),\n",
    "    avg_assessmentScore=('avg_assessmentScore', 'first'),\n",
    "    avg_performance=('avg_performance', 'first'),\n",
    "    avg_communication=('avg_communication', 'first')\n",
    ").reset_index()\n",
    "\n",
    "# Reporting by trainer: Summarize all sessions handled by each trainer\n",
    "trainer_report = training_with_avg_scores.groupby(['trainer']).agg(\n",
    "    total_sessions=('training_code', 'nunique'),\n",
    "    total_participants=('participant_user', 'nunique'),\n",
    "    overall_avg_hackerRankScore=('avg_hackerRankScore', 'mean'),\n",
    "    overall_avg_assessmentScore=('avg_assessmentScore', 'mean'),\n",
    "    overall_avg_performance=('avg_performance', 'mean'),\n",
    "    overall_avg_communication=('avg_communication', 'mean')\n",
    ").reset_index()\n"
   ]
  },
  {
   "cell_type": "code",
   "execution_count": 7,
   "metadata": {},
   "outputs": [
    {
     "name": "stdout",
     "output_type": "stream",
     "text": [
      "Transformation complete. Reports saved as 'session_report.csv' and 'trainer_report.csv'.\n"
     ]
    }
   ],
   "source": [
    "\n",
    "# 5. Save Results to CSV\n",
    "session_report.to_csv('session_report.csv', index=False)\n",
    "trainer_report.to_csv('trainer_report.csv', index=False)\n",
    "\n",
    "print(\"Transformation complete. Reports saved as 'session_report.csv' and 'trainer_report.csv'.\")\n"
   ]
  },
  {
   "cell_type": "code",
   "execution_count": null,
   "metadata": {},
   "outputs": [],
   "source": []
  }
 ],
 "metadata": {
  "kernelspec": {
   "display_name": "Python 3",
   "language": "python",
   "name": "python3"
  },
  "language_info": {
   "codemirror_mode": {
    "name": "ipython",
    "version": 3
   },
   "file_extension": ".py",
   "mimetype": "text/x-python",
   "name": "python",
   "nbconvert_exporter": "python",
   "pygments_lexer": "ipython3",
   "version": "3.12.5"
  }
 },
 "nbformat": 4,
 "nbformat_minor": 2
}

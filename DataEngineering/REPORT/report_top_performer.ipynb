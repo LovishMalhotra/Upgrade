{
 "cells": [
  {
   "cell_type": "code",
   "execution_count": 3,
   "metadata": {},
   "outputs": [
    {
     "name": "stdout",
     "output_type": "stream",
     "text": [
      "Top 5 performers report generated successfully as 'top_5_performers_by_session.csv'\n"
     ]
    }
   ],
   "source": [
    "import pandas as pd\n",
    "\n",
    "# Load the data\n",
    "users_df = pd.read_csv('../STAGING/staging_users.csv')  # Update the path if necessary\n",
    "training_sessions_df = pd.read_csv('../STAGING/staging_training_sessions.csv')  # Update the path if necessary\n",
    "\n",
    "# Merge training sessions with users to replace participant and trainer IDs with usernames\n",
    "merged_df = training_sessions_df.merge(\n",
    "    users_df[['username', '_id']], how='left', left_on='participant_user', right_on='_id'\n",
    ").rename(columns={'username': 'participant_username'}).drop(columns=['_id'])\n",
    "\n",
    "# Add trainer usernames\n",
    "merged_df = merged_df.merge(\n",
    "    users_df[['username', '_id']], how='left', left_on='trainer', right_on='_id'\n",
    ").rename(columns={'username': 'trainer_username'}).drop(columns=['_id'])\n",
    "\n",
    "# Calculate total score\n",
    "merged_df['total_score'] = merged_df[\n",
    "    ['participant_hackerRankScore', 'participant_assessmentScore', \n",
    "     'participant_performance', 'participant_communication']\n",
    "].sum(axis=1)\n",
    "\n",
    "merged_df['Max_Marks[10]'] = merged_df['total_score'] / 4\n",
    "\n",
    "# Sort participants within each training session by total_score, hackerRankScore, and performance\n",
    "merged_df = merged_df.sort_values(by=['training_code','Max_Marks[10]'], ascending=False)\n",
    "\n",
    "# Identify the top 5 performer(s) by session\n",
    "top_performers_df = merged_df.groupby('training_code').head(5)\n",
    "\n",
    "\n",
    "\n",
    "# Select relevant columns for the report\n",
    "top_performers_df = top_performers_df[[\n",
    "    'training_code', 'trainer_username', 'participant_username', \n",
    "    'participant_hackerRankScore', 'participant_performance','participant_assessmentScore','participant_communication','Max_Marks[10]'\n",
    "]]\n",
    "\n",
    "\n",
    "# Save to CSV\n",
    "top_performers_df.to_csv('top_5_performers_by_session_report.csv', index=False)\n",
    "\n",
    "print(\"Top 5 performers report generated successfully as 'top_5_performers_by_session.csv'\")\n"
   ]
  },
  {
   "cell_type": "code",
   "execution_count": null,
   "metadata": {},
   "outputs": [],
   "source": []
  }
 ],
 "metadata": {
  "kernelspec": {
   "display_name": "Python 3",
   "language": "python",
   "name": "python3"
  },
  "language_info": {
   "codemirror_mode": {
    "name": "ipython",
    "version": 3
   },
   "file_extension": ".py",
   "mimetype": "text/x-python",
   "name": "python",
   "nbconvert_exporter": "python",
   "pygments_lexer": "ipython3",
   "version": "3.12.5"
  }
 },
 "nbformat": 4,
 "nbformat_minor": 2
}

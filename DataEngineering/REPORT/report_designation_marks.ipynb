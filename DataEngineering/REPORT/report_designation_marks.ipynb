{
 "cells": [
  {
   "cell_type": "code",
   "execution_count": 1,
   "metadata": {},
   "outputs": [
    {
     "name": "stdout",
     "output_type": "stream",
     "text": [
      "Designation Performance Report generated successfully as 'designation_performance_report.csv'\n"
     ]
    }
   ],
   "source": [
    "import pandas as pd\n",
    "\n",
    "# Load the data\n",
    "users_df = pd.read_csv('../STAGING/staging_users.csv')  # Adjust the path if necessary\n",
    "training_sessions_df = pd.read_csv('../STAGING/staging_training_sessions.csv')  # Adjust the path if necessary\n",
    "\n",
    "# Merge training sessions with users\n",
    "merged_df = training_sessions_df.merge(users_df, how='left', left_on='participant_user', right_on='_id')\n",
    "\n",
    "# Calculate Total Score and Mean Score\n",
    "merged_df['total_score'] = merged_df[\n",
    "    ['participant_hackerRankScore', 'participant_assessmentScore', \n",
    "     'participant_performance', 'participant_communication']\n",
    "].sum(axis=1)\n",
    "\n",
    "merged_df['mean_score'] = merged_df['total_score'] / 4  # Calculate mean based on 4 categories\n",
    "\n",
    "# Create a new DataFrame for counts based on designation\n",
    "counts_df = merged_df.groupby('designation').agg(\n",
    "    count_above_4=('mean_score', lambda x: (x > 4).sum()),\n",
    "    count_below_or_equal_4=('mean_score', lambda x: (x <= 4).sum())\n",
    ").reset_index()\n",
    "\n",
    "# Save to CSV\n",
    "counts_df.to_csv('designation_performance_report.csv', index=False)\n",
    "\n",
    "print(\"Designation Performance Report generated successfully as 'designation_performance_report.csv'\")\n"
   ]
  }
 ],
 "metadata": {
  "kernelspec": {
   "display_name": "Python 3",
   "language": "python",
   "name": "python3"
  },
  "language_info": {
   "codemirror_mode": {
    "name": "ipython",
    "version": 3
   },
   "file_extension": ".py",
   "mimetype": "text/x-python",
   "name": "python",
   "nbconvert_exporter": "python",
   "pygments_lexer": "ipython3",
   "version": "3.12.5"
  }
 },
 "nbformat": 4,
 "nbformat_minor": 2
}

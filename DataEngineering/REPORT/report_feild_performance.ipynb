{
 "cells": [
  {
   "cell_type": "code",
   "execution_count": 1,
   "metadata": {},
   "outputs": [
    {
     "name": "stdout",
     "output_type": "stream",
     "text": [
      "                    Field  Count > 4  Count ≤ 4\n",
      "0  Full Stack Development        215         80\n",
      "1            Data Science        283        114\n",
      "2        Data Engineering        234        101\n",
      "3                   UI/UX        245         92\n",
      "4        Software Testing        209        107\n"
     ]
    }
   ],
   "source": [
    "import pandas as pd\n",
    "\n",
    "# Load the data\n",
    "users_df = pd.read_csv('../STAGING/staging_users.csv')  # Adjust path if necessary\n",
    "training_sessions_df = pd.read_csv('../STAGING/staging_training_sessions.csv')  # Adjust path if necessary\n",
    "\n",
    "# Merge the two DataFrames to include user details in training sessions\n",
    "merged_df = training_sessions_df.merge(users_df, how='left', left_on='participant_user', right_on='_id')\n",
    "\n",
    "# Calculate Total Score and Mean Score\n",
    "merged_df['total_score'] = merged_df[[\n",
    "    'participant_hackerRankScore', 'participant_assessmentScore', \n",
    "    'participant_performance', 'participant_communication'\n",
    "]].sum(axis=1)\n",
    "\n",
    "merged_df['mean_score'] = merged_df['total_score'] / 4\n",
    "\n",
    "# Define mapping of training codes to fields\n",
    "fields_mapping = {\n",
    "    'Full Stack Development': 'FS',\n",
    "    'Data Science': 'DS',\n",
    "    'Data Engineering': 'DE',\n",
    "    'UI/UX': 'UI',\n",
    "    'Software Testing': 'ST'\n",
    "}\n",
    "\n",
    "# Initialize a dictionary to hold counts\n",
    "field_counts = {field: {'greater_than_4': 0, 'less_than_equal_4': 0} for field in fields_mapping.keys()}\n",
    "\n",
    "# Count participants by field and mean score\n",
    "for _, row in merged_df.iterrows():\n",
    "    training_code = row['training_code']\n",
    "    \n",
    "    # Identify the field based on training code prefix\n",
    "    for field, code in fields_mapping.items():\n",
    "        if training_code.startswith(code):  # Adjusted to use startswith for better matching\n",
    "            if row['mean_score'] > 4:\n",
    "                field_counts[field]['greater_than_4'] += 1\n",
    "            else:\n",
    "                field_counts[field]['less_than_equal_4'] += 1\n",
    "            break  # Break after finding the correct field\n",
    "\n",
    "# Convert the counts to a DataFrame for better readability\n",
    "counts_df = pd.DataFrame(field_counts).T.reset_index()\n",
    "counts_df.columns = ['Field', 'Count > 4', 'Count ≤ 4']\n",
    "\n",
    "# Save the report to a CSV file\n",
    "counts_df.to_csv('field_participant_report.csv', index=False)\n",
    "\n",
    "# Display the report\n",
    "print(counts_df)\n"
   ]
  }
 ],
 "metadata": {
  "kernelspec": {
   "display_name": "Python 3",
   "language": "python",
   "name": "python3"
  },
  "language_info": {
   "codemirror_mode": {
    "name": "ipython",
    "version": 3
   },
   "file_extension": ".py",
   "mimetype": "text/x-python",
   "name": "python",
   "nbconvert_exporter": "python",
   "pygments_lexer": "ipython3",
   "version": "3.12.5"
  }
 },
 "nbformat": 4,
 "nbformat_minor": 2
}

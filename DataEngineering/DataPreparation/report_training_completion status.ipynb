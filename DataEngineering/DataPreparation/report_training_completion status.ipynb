{
 "cells": [
  {
   "cell_type": "code",
   "execution_count": 1,
   "metadata": {},
   "outputs": [
    {
     "name": "stdout",
     "output_type": "stream",
     "text": [
      "Session Completion Status Report generated successfully as 'session_completion_status_report.csv'\n"
     ]
    }
   ],
   "source": [
    "import pandas as pd\n",
    "\n",
    "# Load the training sessions data\n",
    "training_sessions_df = pd.read_csv('staging_training_sessions.csv')  # Update the path if necessary\n",
    "\n",
    "# Count the number of sessions by status\n",
    "status_counts = training_sessions_df['status'].value_counts().reset_index()\n",
    "status_counts.columns = ['status', 'session_count']\n",
    "\n",
    "# Save to CSV\n",
    "status_counts.to_csv('session_completion_status_report.csv', index=False)\n",
    "\n",
    "print(\"Session Completion Status Report generated successfully as 'session_completion_status_report.csv'\")\n"
   ]
  }
 ],
 "metadata": {
  "kernelspec": {
   "display_name": "Python 3",
   "language": "python",
   "name": "python3"
  },
  "language_info": {
   "codemirror_mode": {
    "name": "ipython",
    "version": 3
   },
   "file_extension": ".py",
   "mimetype": "text/x-python",
   "name": "python",
   "nbconvert_exporter": "python",
   "pygments_lexer": "ipython3",
   "version": "3.12.5"
  }
 },
 "nbformat": 4,
 "nbformat_minor": 2
}

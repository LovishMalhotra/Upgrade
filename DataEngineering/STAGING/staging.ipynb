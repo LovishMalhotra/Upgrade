{
 "cells": [
  {
   "cell_type": "code",
   "execution_count": 1,
   "metadata": {},
   "outputs": [
    {
     "name": "stdout",
     "output_type": "stream",
     "text": [
      "Requirement already satisfied: pandas in c:\\users\\lovishmalhotra\\appdata\\local\\programs\\python\\python312\\lib\\site-packages (2.2.2)\n",
      "Requirement already satisfied: numpy in c:\\users\\lovishmalhotra\\appdata\\local\\programs\\python\\python312\\lib\\site-packages (2.0.1)\n",
      "Requirement already satisfied: python-dateutil>=2.8.2 in c:\\users\\lovishmalhotra\\appdata\\roaming\\python\\python312\\site-packages (from pandas) (2.9.0.post0)\n",
      "Requirement already satisfied: pytz>=2020.1 in c:\\users\\lovishmalhotra\\appdata\\local\\programs\\python\\python312\\lib\\site-packages (from pandas) (2024.1)\n",
      "Requirement already satisfied: tzdata>=2022.7 in c:\\users\\lovishmalhotra\\appdata\\local\\programs\\python\\python312\\lib\\site-packages (from pandas) (2024.1)\n",
      "Requirement already satisfied: six>=1.5 in c:\\users\\lovishmalhotra\\appdata\\roaming\\python\\python312\\site-packages (from python-dateutil>=2.8.2->pandas) (1.16.0)\n",
      "Note: you may need to restart the kernel to use updated packages.\n"
     ]
    }
   ],
   "source": [
    "pip install pandas numpy"
   ]
  },
  {
   "cell_type": "code",
   "execution_count": 1,
   "metadata": {},
   "outputs": [
    {
     "name": "stdout",
     "output_type": "stream",
     "text": [
      "Missing columns in training sessions data: ['username']\n",
      "Validation, cleaning, and staging data preparation completed. Files saved as 'staging_users.csv' and 'staging_training_sessions.csv'.\n"
     ]
    },
    {
     "name": "stderr",
     "output_type": "stream",
     "text": [
      "C:\\Users\\LovishMalhotra\\AppData\\Local\\Temp\\ipykernel_2848\\1487035109.py:18: FutureWarning: A value is trying to be set on a copy of a DataFrame or Series through chained assignment using an inplace method.\n",
      "The behavior will change in pandas 3.0. This inplace method will never work because the intermediate object on which we are setting values always behaves as a copy.\n",
      "\n",
      "For example, when doing 'df[col].method(value, inplace=True)', try using 'df.method({col: value}, inplace=True)' or df[col] = df[col].method(value) instead, to perform the operation inplace on the original object.\n",
      "\n",
      "\n",
      "  df['username'].fillna('', inplace=True)\n",
      "C:\\Users\\LovishMalhotra\\AppData\\Local\\Temp\\ipykernel_2848\\1487035109.py:19: FutureWarning: A value is trying to be set on a copy of a DataFrame or Series through chained assignment using an inplace method.\n",
      "The behavior will change in pandas 3.0. This inplace method will never work because the intermediate object on which we are setting values always behaves as a copy.\n",
      "\n",
      "For example, when doing 'df[col].method(value, inplace=True)', try using 'df.method({col: value}, inplace=True)' or df[col] = df[col].method(value) instead, to perform the operation inplace on the original object.\n",
      "\n",
      "\n",
      "  df['email'].fillna('', inplace=True)\n",
      "C:\\Users\\LovishMalhotra\\AppData\\Local\\Temp\\ipykernel_2848\\1487035109.py:20: FutureWarning: A value is trying to be set on a copy of a DataFrame or Series through chained assignment using an inplace method.\n",
      "The behavior will change in pandas 3.0. This inplace method will never work because the intermediate object on which we are setting values always behaves as a copy.\n",
      "\n",
      "For example, when doing 'df[col].method(value, inplace=True)', try using 'df.method({col: value}, inplace=True)' or df[col] = df[col].method(value) instead, to perform the operation inplace on the original object.\n",
      "\n",
      "\n",
      "  df['password'].fillna('', inplace=True)\n",
      "C:\\Users\\LovishMalhotra\\AppData\\Local\\Temp\\ipykernel_2848\\1487035109.py:21: FutureWarning: A value is trying to be set on a copy of a DataFrame or Series through chained assignment using an inplace method.\n",
      "The behavior will change in pandas 3.0. This inplace method will never work because the intermediate object on which we are setting values always behaves as a copy.\n",
      "\n",
      "For example, when doing 'df[col].method(value, inplace=True)', try using 'df.method({col: value}, inplace=True)' or df[col] = df[col].method(value) instead, to perform the operation inplace on the original object.\n",
      "\n",
      "\n",
      "  df['designation'].fillna('', inplace=True)\n"
     ]
    }
   ],
   "source": [
    "import pandas as pd\n",
    "import numpy as np\n",
    "import ast\n",
    "\n",
    "# Load raw data files\n",
    "users_df = pd.read_csv('../RAW/raw_users.csv')\n",
    "training_sessions_df = pd.read_csv('../RAW/raw_training_sessions.csv')\n",
    "\n",
    "# 1. Data Validation and Cleaning\n",
    "def validate_and_clean_users(df):\n",
    "    # Check for missing columns\n",
    "    expected_columns = ['_id', 'username', 'email', 'password', 'role', 'designation']\n",
    "    missing_columns = [col for col in expected_columns if col not in df.columns]\n",
    "    if missing_columns:\n",
    "        print(f\"Missing columns in users data: {missing_columns}\")\n",
    "    \n",
    "    # Fill missing values with appropriate defaults\n",
    "    df['username'].fillna('', inplace=True)\n",
    "    df['email'].fillna('', inplace=True)\n",
    "    df['password'].fillna('', inplace=True)\n",
    "    df['designation'].fillna('', inplace=True)\n",
    "    \n",
    "    # Remove duplicates\n",
    "    df.drop_duplicates(inplace=True)\n",
    "    \n",
    "    return df\n",
    "\n",
    "def validate_and_clean_training_sessions(df):\n",
    "    # Check for missing columns\n",
    "    expected_columns = [ 'training_code', 'status', 'trainer','username', 'startDate', 'endDate', 'participants']\n",
    "    missing_columns = [col for col in expected_columns if col not in df.columns]\n",
    "    if missing_columns:\n",
    "        print(f\"Missing columns in training sessions data: {missing_columns}\")\n",
    "    \n",
    "    # Convert date columns to datetime format\n",
    "    df['startDate'] = pd.to_datetime(df['startDate'], errors='coerce')\n",
    "    df['endDate'] = pd.to_datetime(df['endDate'], errors='coerce')\n",
    "    \n",
    "    # Parse participants column as a list of dictionaries\n",
    "    df['participants'] = df['participants'].apply(lambda x: ast.literal_eval(x) if isinstance(x, str) else [])\n",
    "    \n",
    "    # Remove duplicates, excluding 'participants' column\n",
    "    df.drop_duplicates(subset=[col for col in df.columns if col != 'participants'], inplace=True)\n",
    "    \n",
    "    return df\n",
    "\n",
    "# Apply validation and cleaning functions\n",
    "users_df = validate_and_clean_users(users_df)\n",
    "training_sessions_df = validate_and_clean_training_sessions(training_sessions_df)\n",
    "\n",
    "# 2. Staging Layer Preparation\n",
    "\n",
    "# Fill missing scores in participants\n",
    "def fill_missing_scores(participants):\n",
    "    # Calculate averages for each score across all participants in this session\n",
    "    avg_scores = {\n",
    "        'hackerRankScore': np.nanmean([p.get('hackerRankScore', np.nan) for p in participants]),\n",
    "        'assessmentScore': np.nanmean([p.get('assessmentScore', np.nan) for p in participants]),\n",
    "        'performance': np.nanmean([p.get('performance', np.nan) for p in participants]),\n",
    "        'communication': np.nanmean([p.get('communication', np.nan) for p in participants])\n",
    "    }\n",
    "    \n",
    "    # Fill in missing values\n",
    "    for participant in participants:\n",
    "        participant['hackerRankScore'] = participant.get('hackerRankScore', avg_scores['hackerRankScore'])\n",
    "        participant['assessmentScore'] = participant.get('assessmentScore', avg_scores['assessmentScore'])\n",
    "        participant['performance'] = participant.get('performance', avg_scores['performance'])\n",
    "        participant['communication'] = participant.get('communication', avg_scores['communication'])\n",
    "    \n",
    "    return participants\n",
    "\n",
    "# Apply the function to each participants list in the DataFrame\n",
    "training_sessions_df['participants'] = training_sessions_df['participants'].apply(fill_missing_scores)\n",
    "\n",
    "# Explode participants into individual rows\n",
    "staging_sessions_df = training_sessions_df.explode('participants').reset_index(drop=True)\n",
    "\n",
    "# Normalize participants into separate columns\n",
    "participants_df = pd.json_normalize(staging_sessions_df['participants']).add_prefix('participant_')\n",
    "\n",
    "# Concatenate normalized participants data with the main staging DataFrame\n",
    "staging_sessions_df = pd.concat([staging_sessions_df.drop(columns=['participants']), participants_df], axis=1)\n",
    "\n",
    "# 3. Save the staging data to CSV files\n",
    "users_df.to_csv('staging_users.csv', index=False)\n",
    "staging_sessions_df.to_csv('staging_training_sessions.csv', index=False)\n",
    "\n",
    "print(\"Validation, cleaning, and staging data preparation completed. Files saved as 'staging_users.csv' and 'staging_training_sessions.csv'.\")\n"
   ]
  },
  {
   "cell_type": "code",
   "execution_count": null,
   "metadata": {},
   "outputs": [],
   "source": []
  }
 ],
 "metadata": {
  "kernelspec": {
   "display_name": "Python 3",
   "language": "python",
   "name": "python3"
  },
  "language_info": {
   "codemirror_mode": {
    "name": "ipython",
    "version": 3
   },
   "file_extension": ".py",
   "mimetype": "text/x-python",
   "name": "python",
   "nbconvert_exporter": "python",
   "pygments_lexer": "ipython3",
   "version": "3.12.5"
  }
 },
 "nbformat": 4,
 "nbformat_minor": 2
}
